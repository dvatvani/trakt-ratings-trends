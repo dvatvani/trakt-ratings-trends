{
 "cells": [
  {
   "cell_type": "code",
   "execution_count": null,
   "metadata": {
    "collapsed": false
   },
   "outputs": [],
   "source": [
    "%pylab inline\n",
    "import seaborn as sns\n",
    "from scipy import stats\n",
    "import pandas as pd\n",
    "import requests\n",
    "import json\n",
    "from pandas.io.json import json_normalize"
   ]
  },
  {
   "cell_type": "code",
   "execution_count": null,
   "metadata": {
    "collapsed": true
   },
   "outputs": [],
   "source": [
    "try:\n",
    "    from tqdm import tqdm\n",
    "except ImportError:\n",
    "    def tqdm(obj):  # Create a dummy variable that just returns whatever it's passed if tqdm doesn't exist\n",
    "        return(obj)"
   ]
  },
  {
   "cell_type": "code",
   "execution_count": null,
   "metadata": {
    "collapsed": false
   },
   "outputs": [],
   "source": [
    "from keys import trakt_api_key\n",
    "if trakt_api_key == \"xxxxxxxxxxxxxxxxxxxxxxxxxxxxxxxxxxxxxxxxxxxxxxxxxxxxxxxxxxxxxxxx\":\n",
    "    raise Exception('trakt API key needed. This can be obtained from here: https://trakt.tv/oauth/applications/new')"
   ]
  },
  {
   "cell_type": "code",
   "execution_count": null,
   "metadata": {
    "collapsed": false
   },
   "outputs": [],
   "source": [
    "# Set the headers for the trakt API requests\n",
    "headers={\n",
    "  'Content-Type': 'application/json',\n",
    "  'trakt-api-version': '2',\n",
    "  'trakt-api-key': trakt_api_key\n",
    "}"
   ]
  },
  {
   "cell_type": "code",
   "execution_count": null,
   "metadata": {
    "collapsed": false
   },
   "outputs": [],
   "source": [
    "search_string = raw_input(\"Please type in a show name :\")"
   ]
  },
  {
   "cell_type": "code",
   "execution_count": null,
   "metadata": {
    "collapsed": false
   },
   "outputs": [],
   "source": [
    "# Find best match in trakt.tv\n",
    "request = requests.get(\"https://api-v2launch.trakt.tv/search?query={}&type=show\".format(search_string), headers=headers)\n",
    "show_search_data = json_normalize(json.loads(request.text))\n",
    "print(\"Best match : {}\".format(show_search_data['show.title'][0]))\n",
    "show_id = show_search_data['show.ids.slug'][0]"
   ]
  },
  {
   "cell_type": "code",
   "execution_count": null,
   "metadata": {
    "collapsed": false
   },
   "outputs": [],
   "source": [
    "request = requests.get(\"https://api-v2launch.trakt.tv/shows/{}\".format(show_id), headers=headers)\n",
    "show_summary = json_normalize(json.loads(request.text))\n",
    "\n",
    "request = requests.get(\"https://api-v2launch.trakt.tv/shows/{}/stats\".format(show_id), headers=headers)\n",
    "show_stats = json_normalize(json.loads(request.text))\n",
    "\n",
    "request = requests.get(\"https://api-v2launch.trakt.tv/shows/{}/seasons?extended=episodes\".format(show_id), headers=headers)\n",
    "show_seasons_list = json_normalize(json.loads(request.text))\n",
    "\n",
    "episode_df = pd.concat([json_normalize(ep) for ep in show_seasons_list.episodes])"
   ]
  },
  {
   "cell_type": "code",
   "execution_count": null,
   "metadata": {
    "collapsed": false
   },
   "outputs": [],
   "source": [
    "episodes_summaries = []\n",
    "episodes_ratings = []\n",
    "episodes_stats = []\n",
    "\n",
    "for index, episode in tqdm(episode_df.iterrows(), total=len(episode_df)):\n",
    "\n",
    "    # Fetch summary (for Synopsis)\n",
    "    request = requests.get(\"https://api-v2launch.trakt.tv/shows/{id}/seasons/{season}/episodes/{episode}?extended=full\".format(id=show_id,\n",
    "                                                                                                                               season=episode.season,\n",
    "                                                                                                                               episode=episode.number), headers=headers)\n",
    "    episode_summary = json_normalize(json.loads(request.text))\n",
    "    episodes_summaries.append(episode_summary)\n",
    "    \n",
    "    \n",
    "    # The code below fetches additional information that isn't currently used. It may be useful for future development\n",
    "    \n",
    "    # fetch ratings (for histogram breakdown of ratings)\n",
    "\n",
    "    #request = requests.get(\"https://api-v2launch.trakt.tv/shows/{id}/seasons/{season}/episodes/{episode}/ratings\".format(id=show_id,\n",
    "    #                                                                                                                     season=episode.season,\n",
    "    #                                                                                                                     episode=episode.number), headers=headers)\n",
    "    #episode_ratings = json_normalize(json.loads(request.text))\n",
    "\n",
    "\n",
    "    # fetch other stats (to get more details stats like \"watchers\", \"plays\", \"collectors\", \"collected_episodes\", \"comments\", \"lists\"\n",
    "    # \"votes\", etc.\n",
    "\n",
    "    #request = requests.get(\"https://api-v2launch.trakt.tv/shows/{id}/seasons/{season}/episodes/{episode}/stats\".format(id=show_id,\n",
    "    #                                                                                                                   season=episode.season,\n",
    "    #                                                                                                                   episode=episode.number), headers=headers)\n",
    "    #episode_stats = json_normalize(json.loads(request.text))\n",
    "\n",
    "\n",
    "\n"
   ]
  },
  {
   "cell_type": "code",
   "execution_count": null,
   "metadata": {
    "collapsed": false
   },
   "outputs": [],
   "source": [
    "full_episode_df = pd.concat(episodes_summaries)\n",
    "full_episode_df['first_aired'] = pd.to_datetime(full_episode_df.first_aired)\n",
    "\n",
    "full_episode_df.to_csv(show_summary.title[0] + \".csv\", encoding='utf-8')"
   ]
  },
  {
   "cell_type": "code",
   "execution_count": null,
   "metadata": {
    "collapsed": true
   },
   "outputs": [],
   "source": [
    "# Remove specials and episodes that haven't aired, and group episodes by season\n",
    "main_episodes = full_episode_df[(full_episode_df.season > 0) & (full_episode_df.first_aired < pd.datetime.now())]\n",
    "main_episodes.number_abs = range(1, len(main_episodes)+1)\n",
    "\n",
    "groups = main_episodes.groupby(\"season\")\n",
    "pal = sns.color_palette(n_colors=len(groups))"
   ]
  },
  {
   "cell_type": "code",
   "execution_count": null,
   "metadata": {
    "collapsed": false
   },
   "outputs": [],
   "source": [
    "# Generate static image plot\n",
    "sns.set_style('white')\n",
    "\n",
    "for name, group in groups:\n",
    "    \n",
    "    c = np.array([pal[name-1]]*len(group))\n",
    "    \n",
    "    plt.scatter(x=group.number_abs,\n",
    "                y=group.rating,\n",
    "                c=np.array([pal[name-1]]*len(group))\n",
    "                )\n",
    "\n",
    "    \n",
    "    polyfit_coef = np.polyfit(group.number_abs, group.rating, 1)\n",
    "    plt.plot(group.number_abs, np.poly1d(polyfit_coef)(group.number_abs), c=c[0])\n",
    "    \n",
    "    for name, episode in group.iterrows(): # add seasons_titles again when it works\n",
    "        rating = episode.rating\n",
    "        error = 2.0 / episode.votes ** .5\n",
    "        #plt.text(running_x + 0.04, rating - error - 0.5, title, rotation='vertical', ha='center', va='top', size='xx-small')\n",
    "        plt.plot((episode.number_abs, episode.number_abs), (rating - error, rating + error), c=c[0], alpha=0.4)\n",
    "        \n",
    "plt.xlim(0,main_episodes.number_abs.max()+1)\n",
    "plt.ylim(5,10)\n",
    "plt.grid(True, axis='y')\n",
    "plt.title(show_summary.title[0], size=20)\n",
    "plt.ylabel('Trakt.tv Episode Rating')\n",
    "plt.xlabel('Episode number')\n",
    "\n",
    "plt.gcf().set_size_inches(18.5, 10.5)\n",
    "plt.savefig(show_summary.title[0] + \".png\", dpi=300)"
   ]
  },
  {
   "cell_type": "code",
   "execution_count": null,
   "metadata": {
    "collapsed": false
   },
   "outputs": [],
   "source": [
    "# interactive mpld3 plot\n",
    "\n",
    "import matplotlib.pyplot as plt\n",
    "import numpy as np\n",
    "import pandas as pd\n",
    "import mpld3\n",
    "from mpld3 import plugins\n",
    "pd.options.display.max_colwidth = 1000\n",
    "#plt.style.use('seaborn-white')\n",
    "\n",
    "# Define some CSS to control our custom labels\n",
    "css = \"\"\"\n",
    "table\n",
    "{\n",
    "  border-collapse: collapse;\n",
    "  width: 300px;\n",
    "}\n",
    "th\n",
    "{\n",
    "  color: #ffffff;\n",
    "  background-color: #000000;\n",
    "}\n",
    "td\n",
    "{\n",
    "  background-color: #cccccc;\n",
    "}\n",
    "table, th, td\n",
    "{\n",
    "  font-family:Arial, Helvetica, sans-serif;\n",
    "  border: 1px solid black;\n",
    "  text-align: right;\n",
    "}\n",
    "\"\"\"\n",
    "\n",
    "fig, ax = plt.subplots()\n",
    "ax.grid(True, axis='y', alpha=0.9)\n",
    "\n",
    "df = main_episodes\n",
    "\n",
    "# Plot trendlines\n",
    "for name, group in groups:\n",
    "    c = np.array([pal[name-1]]*len(group))\n",
    "    polyfit_coef = np.polyfit(group.number_abs, group.rating, 1)\n",
    "    plt.plot(group.number_abs, np.poly1d(polyfit_coef)(group.number_abs), c=c[0], zorder=1)\n",
    "    \n",
    "    for name, episode in group.iterrows(): # add seasons_titles again when it works\n",
    "        rating = episode.rating\n",
    "        error = 2.0 / episode.votes ** .5\n",
    "        #plt.text(running_x + 0.04, rating - error - 0.5, title, rotation='vertical', ha='center', va='top', size='xx-small')\n",
    "        plt.plot((episode.number_abs, episode.number_abs), (rating - error, rating + error), c=c[0], alpha=0.4, zorder=1)\n",
    "\n",
    "# Generate HTML hover tooltip labels\n",
    "labels = []\n",
    "columns_for_labels = ['season', 'number', 'rating', 'votes', 'first_aired', 'overview']\n",
    "column_rename_map = {'season': 'Season',\n",
    "                     'number': 'Episode',\n",
    "                     'rating' : 'Rating',\n",
    "                     'votes' : 'Votes',\n",
    "                     'first_aired' : 'Air date', \n",
    "                     'overview' : 'Synopsis'}\n",
    "for i in range(len(df)):\n",
    "    label = df.iloc[[i]][columns_for_labels].T\n",
    "    label.columns = df.iloc[[i]].title\n",
    "    labels.append(label.rename(column_rename_map).to_html())\n",
    "\n",
    "# Plot scatter points\n",
    "c = (df.season-1).map(pd.Series(list(sns.color_palette(n_colors=len(df.season.value_counts())))))\n",
    "points = ax.scatter(df.number_abs, df.rating, alpha=.99, c=c, zorder=2)\n",
    "\n",
    "\n",
    "ax.set_ylim(5,10)\n",
    "ax.set_xlim(0,main_episodes.number_abs.max()+1)\n",
    "ax.set_ylabel('Trakt.tv Episode Rating')\n",
    "ax.set_xlabel('Episode number')\n",
    "fig.set_size_inches(12, 6)\n",
    "ax.set_title(show_summary.title[0], size=20)\n",
    "\n",
    "tooltip = plugins.PointHTMLTooltip(points, labels,\n",
    "                                   voffset=10, hoffset=10, css=css)\n",
    "plugins.connect(fig, tooltip)\n",
    "\n",
    "mpld3.save_html(fig, str(show_summary.title[0] + \".html\"))\n",
    "mpld3.display()"
   ]
  }
 ],
 "metadata": {
  "kernelspec": {
   "display_name": "Python 2",
   "language": "python",
   "name": "python2"
  },
  "language_info": {
   "codemirror_mode": {
    "name": "ipython",
    "version": 2
   },
   "file_extension": ".py",
   "mimetype": "text/x-python",
   "name": "python",
   "nbconvert_exporter": "python",
   "pygments_lexer": "ipython2",
   "version": "2.7.11"
  }
 },
 "nbformat": 4,
 "nbformat_minor": 0
}
